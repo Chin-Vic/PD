{
 "cells": [
  {
   "cell_type": "code",
   "execution_count": 1,
   "metadata": {},
   "outputs": [
    {
     "name": "stdout",
     "output_type": "stream",
     "text": [
      "WARNING:tensorflow:Deprecation warnings have been disabled. Set TF_ENABLE_DEPRECATION_WARNINGS=1 to re-enable them.\n",
      "1.15.5\n"
     ]
    },
    {
     "name": "stderr",
     "output_type": "stream",
     "text": [
      "Using TensorFlow backend.\n"
     ]
    }
   ],
   "source": [
    "import tensorflow as tf\n",
    "print(tf.__version__)\n",
    "from sklearn import manifold\n",
    "import itertools\n",
    "\n",
    "import json\n",
    "from tqdm import tqdm \n",
    "\n",
    "from sklearn.metrics import confusion_matrix,f1_score,accuracy_score\n",
    "from scipy import interp\n",
    "from PIL import Image, ImageEnhance, ImageOps\n",
    "import cv2\n",
    "import pandas as pd\n",
    "import numpy as np\n",
    "from matplotlib import pyplot as plt\n",
    "from matplotlib import pyplot as plt2\n",
    "import collections\n",
    "from sklearn.preprocessing import label_binarize\n",
    "import math\n",
    "import random\n",
    "from keras.applications.inception_v3 import InceptionV3 as iv3\n",
    "from keras.applications.xception import Xception\n",
    "from keras.applications.vgg16 import VGG16\n",
    "from keras.applications.vgg19 import VGG19\n",
    "from keras.applications.vgg19 import VGG19\n",
    "\n",
    "from keras.applications.mobilenet_v2 import MobileNetV2\n",
    "# from tensorflow.keras.applications.EfficientNetB7 import EfficientNetB7\n",
    "from keras.applications.densenet import DenseNet121\n",
    "from keras import layers\n",
    "from keras.layers import GlobalAveragePooling2D\n",
    "from keras.applications.inception_resnet_v2 import InceptionResNetV2 as ivr2\n",
    "from keras.applications.resnet50 import ResNet50\n",
    "from keras.models import Model\n",
    "from keras.optimizers import RMSprop\n",
    "from keras import backend as K\n",
    "import os, os.path\n",
    "import gc\n",
    "import time\n",
    "from keras.preprocessing.image import ImageDataGenerator\n",
    "import efficientnet.keras as efn \n",
    "from efficientnet.keras import center_crop_and_resize, preprocess_input\n",
    "from sklearn.metrics import roc_curve, auc\n",
    "from sklearn.metrics import roc_auc_score\n",
    "from sklearn import metrics\n",
    "\n",
    "tf.compat.v1.disable_eager_execution()\n",
    "random.seed(5478)\n"
   ]
  },
  {
   "cell_type": "code",
   "execution_count": 2,
   "metadata": {},
   "outputs": [],
   "source": [
    "size = 224\n",
    "def plot_confusion_matrix(cm, classes,\n",
    "                          normalize=False,\n",
    "                          title='Confusion matrix',\n",
    "                          cmap=plt.cm.Blues):\n",
    "    \"\"\"\n",
    "    This function prints and plots the confusion matrix.\n",
    "    Normalization can be applied by setting `normalize=True`.\n",
    "    \"\"\"\n",
    "    if normalize:\n",
    "        cm = cm.astype('float') / cm.sum(axis=1)[:, np.newaxis]\n",
    "        print(\"Normalized confusion matrix\")\n",
    "    else:\n",
    "        print('Confusion matrix, without normalization')\n",
    "\n",
    "    print(cm)\n",
    "\n",
    "    plt.imshow(cm, interpolation='nearest', cmap=cmap)\n",
    "    plt.title(title)\n",
    "    plt.colorbar()\n",
    "    tick_marks = np.arange(len(classes))\n",
    "    plt.xticks(tick_marks, classes, rotation=45)\n",
    "    plt.yticks(tick_marks, classes)\n",
    "\n",
    "    fmt = '.2f' if normalize else 'd'\n",
    "    thresh = cm.max() / 2.\n",
    "    for i, j in itertools.product(range(cm.shape[0]), range(cm.shape[1])):\n",
    "        plt.text(j, i, format(cm[i, j], fmt),\n",
    "                 horizontalalignment=\"center\",\n",
    "                 color=\"white\" if cm[i, j] > thresh else \"black\")\n",
    "\n",
    "    plt.ylabel('True label')\n",
    "    plt.xlabel('Predicted label')\n",
    "    plt.tight_layout()\n",
    "\n",
    "class Rand_Augment():\n",
    "    def __init__(self, Numbers=None, max_Magnitude=None):\n",
    "        self.transforms = [\n",
    "                            'autocontrast', \n",
    "                           'equalize', \n",
    "                           'rotate', \n",
    "                           'solarize', \n",
    "                           'color', \n",
    "                           'posterize',\n",
    "                           'contrast', \n",
    "                           'brightness', \n",
    "                           'sharpness', \n",
    "                           'shearX', \n",
    "                           'shearY', \n",
    "                           'translateX', \n",
    "                           'translateY',\n",
    "                            \"invert\"\n",
    "                          ]\n",
    "        if Numbers is None:\n",
    "            self.Numbers = len(self.transforms) // 2\n",
    "        else:\n",
    "            self.Numbers = Numbers\n",
    "        if max_Magnitude is None:\n",
    "            self.max_Magnitude = 10\n",
    "        else:\n",
    "            self.max_Magnitude = max_Magnitude\n",
    "        fillcolor = 128\n",
    "        self.ranges = {\n",
    "            # these  Magnitude   range , you  must test  it  yourself , see  what  will happen  after these  operation ,\n",
    "            # it is no  need to obey  the value  in  autoaugment.py\n",
    "            \"shearX\": np.linspace(0, 0.3, 10),\n",
    "            \"shearY\": np.linspace(0, 0.3, 10),\n",
    "            \"translateX\": np.linspace(0, 0.3, 10),\n",
    "            \"translateY\": np.linspace(0, 0.3, 10),\n",
    "            \"rotate\": np.linspace(0,5 , 10),\n",
    "            \"color\": np.linspace(0.0, 0.3, 10),\n",
    "            \"posterize\": np.round(np.linspace(8, 4, 10), 0).astype(np.int),\n",
    "            \"solarize\": np.linspace(256, 231, 10),\n",
    "            \"contrast\": np.linspace(0.0, 0.3, 10),\n",
    "            \"sharpness\": np.linspace(0.0, 0.3, 10),\n",
    "            \"brightness\": np.linspace(0.0, 0.3, 10),\n",
    "            \"autocontrast\": [0] * 10,\n",
    "            \"equalize\": [0] * 10,           \n",
    "            \"invert\": [0] * 10\n",
    "        }\n",
    "        self.func = {\n",
    "            \"shearX\": lambda img, magnitude: img.transform(\n",
    "                img.size, Image.AFFINE, (1, magnitude * random.choice([-1, 1]), 0, 0, 1, 0),\n",
    "                Image.BICUBIC, fill=fillcolor),\n",
    "            \"shearY\": lambda img, magnitude: img.transform(\n",
    "                img.size, Image.AFFINE, (1, 0, 0, magnitude * random.choice([-1, 1]), 1, 0),\n",
    "                Image.BICUBIC, fill=fillcolor),\n",
    "            \"translateX\": lambda img, magnitude: img.transform(\n",
    "                img.size, Image.AFFINE, (1, 0, magnitude * img.size[0] * random.choice([-1, 1]), 0, 1, 0),\n",
    "                fill=fillcolor),\n",
    "            \"translateY\": lambda img, magnitude: img.transform(\n",
    "                img.size, Image.AFFINE, (1, 0, 0, 0, 1, magnitude * img.size[1] * random.choice([-1, 1])),\n",
    "                fill=fillcolor),\n",
    "            \"rotate\": lambda img, magnitude: self.rotate_with_fill(img, magnitude),\n",
    "            # \"rotate\": lambda img, magnitude: img.rotate(magnitude * random.choice([-1, 1])),\n",
    "            \"color\": lambda img, magnitude: ImageEnhance.Color(img).enhance(1 + magnitude * random.choice([-1, 1])),\n",
    "            \"posterize\": lambda img, magnitude: ImageOps.posterize(img, magnitude),\n",
    "            \"solarize\": lambda img, magnitude: ImageOps.solarize(img, magnitude),\n",
    "            \"contrast\": lambda img, magnitude: ImageEnhance.Contrast(img).enhance(\n",
    "                1 + magnitude * random.choice([-1, 1])),\n",
    "            \"sharpness\": lambda img, magnitude: ImageEnhance.Sharpness(img).enhance(\n",
    "                1 + magnitude * random.choice([-1, 1])),\n",
    "            \"brightness\": lambda img, magnitude: ImageEnhance.Brightness(img).enhance(\n",
    "                1 + magnitude * random.choice([-1, 1])),\n",
    "            \"autocontrast\": lambda img, magnitude: ImageOps.autocontrast(img),\n",
    "            \"equalize\": lambda img, magnitude: img,\n",
    "            \"invert\": lambda img, magnitude: ImageOps.invert(img)\n",
    "        }\n",
    "\n",
    "    def rand_augment(self):\n",
    "        \"\"\"Generate a set of distortions.\n",
    "             Args:\n",
    "             N: Number of augmentation transformations to apply sequentially. N  is len(transforms)/2  will be best\n",
    "             M: Max_Magnitude for all the transformations. should be  <= self.max_Magnitude \"\"\"\n",
    "\n",
    "        M = np.random.randint(0, self.max_Magnitude, self.Numbers)\n",
    "\n",
    "        sampled_ops = np.random.choice(self.transforms, self.Numbers)\n",
    "        return [(op, Magnitude) for (op, Magnitude) in zip(sampled_ops, M)]\n",
    "\n",
    "    def __call__(self, image):\n",
    "        operations = self.rand_augment()\n",
    "        for (op_name, M) in operations:\n",
    "            operation = self.func[op_name]\n",
    "            mag = self.ranges[op_name][M]\n",
    "            image = operation(image, mag)\n",
    "        return image\n",
    "\n",
    "    def rotate_with_fill(self, img, magnitude):\n",
    "        #  I  don't know why  rotate  must change to RGBA , it is  copy  from Autoaugment - pytorch\n",
    "        rot = img.convert(\"RGBA\").rotate(magnitude)\n",
    "        return Image.composite(rot, Image.new(\"RGBA\", rot.size, (128,) * 4), rot).convert(img.mode)\n",
    "\n",
    "    def test_single_operation(self, image, op_name, M=-1):\n",
    "        '''\n",
    "        :param image: image\n",
    "        :param op_name: operation name in   self.transforms\n",
    "        :param M: -1  stands  for the  max   Magnitude  in  there operation\n",
    "        :return:\n",
    "        '''\n",
    "        operation = self.func[op_name]\n",
    "        mag = self.ranges[op_name][M]\n",
    "        image = operation(image, mag)\n",
    "        return image\n",
    "randaugment = Rand_Augment()\n",
    "def preprocessing_function(image):\n",
    "    image = Image.fromarray(image.astype(np.uint8))\n",
    "    image = np.array(randaugment(image))\n",
    "    return image\n",
    "\n",
    "def get_feature(select_pre,train):\n",
    "    pre_trained_model = select_pre(weights='imagenet',\n",
    "        input_shape=(train.shape[1], train.shape[2], 3), include_top=False, classes=2,pooling = \"avg\")\n",
    "#     for layer in pre_trained_model.layers:\n",
    "#         print(layer.name)\n",
    "    for layer in pre_trained_model.layers:\n",
    "        layer.trainable = False\n",
    "    if select_pre == iv3:\n",
    "        last_layer = pre_trained_model.get_layer('mixed7')\n",
    "    elif select_pre == VGG16:\n",
    "        last_layer = pre_trained_model.get_layer('block5_pool')\n",
    "    elif select_pre == efn.EfficientNetB0:\n",
    "        last_layer = pre_trained_model.get_layer('block7a_project_bn')\n",
    "    elif select_pre == MobileNetV2:\n",
    "        last_layer = pre_trained_model.get_layer('out_relu')\n",
    "    elif select_pre == VGG19:\n",
    "        last_layer = pre_trained_model.get_layer('block5_pool')\n",
    "    elif select_pre == ivr2:\n",
    "        last_layer = pre_trained_model.get_layer('block8_10_mixed')\n",
    "    elif select_pre == DenseNet121:\n",
    "        last_layer = pre_trained_model.get_layer('conv5_block16_concat')\n",
    "    elif select_pre == Xception:\n",
    "        last_layer = pre_trained_model.get_layer('block13_pool')#block13_pool\n",
    "    elif select_pre == ResNet50:\n",
    "        last_layer = pre_trained_model.get_layer('add_16')\n",
    "    print ('last layer output shape:', last_layer.output_shape)\n",
    "    # shape = last_layer.output_shape[-1]\n",
    "    shape = 1\n",
    "    for j in last_layer.output_shape:\n",
    "        if j != None:\n",
    "            shape *= j\n",
    "    last_output = last_layer.output\n",
    "    x = layers.Flatten()(last_output)\n",
    "    model = Model(pre_trained_model.input, x) \n",
    "    train = train.astype(\"float32\")\n",
    "    feature_train =np.empty((train.shape[0],shape))\n",
    "    for i in range(0,train.shape[0],64):   \n",
    "        feature_train[i:i+64] = model.predict(train[i:i+64])\n",
    "    return feature_train"
   ]
  },
  {
   "cell_type": "code",
   "execution_count": 3,
   "metadata": {
    "scrolled": true
   },
   "outputs": [
    {
     "name": "stdout",
     "output_type": "stream",
     "text": [
      "6622677_partial\n",
      "1407449_Partial\n",
      "3398934_partial\n",
      "1523990_Partial\n",
      "6583999_partial\n",
      "5274590_Partial\n",
      "4251600_partial\n",
      "6601252_Partial\n",
      "6604872_partial\n",
      "6628354_partial\n",
      "5428639_Partial\n",
      "6620263_Partial\n",
      "6632175_partial\n",
      "2954867_partial\n",
      "1687869_control\n",
      "2852721_control\n",
      "4565496_control\n",
      "2101943_control\n",
      "4333688_control\n",
      "6411783_control\n",
      "3004757_control\n",
      "6596420_control\n",
      "1592459_control\n",
      "2995038_control\n",
      "24\n",
      "(1060, 224, 224, 3)\n",
      "(1060, 1)\n",
      "(120, 224, 224, 3)\n",
      "(120, 1)\n",
      "Counter({0: 590, 1: 470})\n",
      "Counter({0: 70, 1: 50})\n"
     ]
    },
    {
     "data": {
      "image/png": "[encoded data removed]",
      "text/plain": [
       "<Figure size 432x288 with 1 Axes>"
      ]
     },
     "metadata": {
      "needs_background": "light"
     },
     "output_type": "display_data"
    }
   ],
   "source": [
    "path = [\n",
    "    '20230305_Nigrosome_Source_image_3T/PD_132',\n",
    "        '20230305_Nigrosome_Source_image_3T/Control_104/',\n",
    "       ]\n",
    "\n",
    "target_names = ['Partial','Control']\n",
    "data = []\n",
    "label = []\n",
    "data_v = []\n",
    "label_v = []\n",
    "\n",
    "val_list = [\n",
    "    '2101943_control', '1592459_control', '4565496_control', '6596420_control', '4333688_control',\n",
    "    '6411783_control','2852721_control','3004757_control','1687869_control','2995038_control',\n",
    "    '6583999_partial','6604872_partial','6622677_partial','6628354_partial','6632175_partial',\n",
    "    '1523990_Partial','2954867_partial','3398934_partial','1407449_Partial','5274590_Partial',\n",
    "    '6620263_Partial','6601252_Partial',\n",
    "    '4251600_partial','5428639_Partial'\n",
    "]\n",
    "rr=0\n",
    "\n",
    "for e,k in enumerate(path): \n",
    "    cou = 1\n",
    "    for root, dirs, files in os.walk(k, topdown=False):\n",
    "        flie_name = root.split('/')[-1]\n",
    "        if flie_name in val_list:\n",
    "            rr+=1\n",
    "            print(flie_name)\n",
    "            for name in files[:5]: \n",
    "                if \"measurement\" not in os.path.join(root, name):\n",
    "                    temp = os.path.join(root, name)\n",
    "                    img = cv2.resize(cv2.imread(temp), (size, size)) \n",
    "                    plt.imshow(img)\n",
    "                    data_v.append(img)\n",
    "                    label_v.append(e if e==0 else 1)  \n",
    "        else:\n",
    "            for name in files[:5]: \n",
    "                if \"measurement\" not in os.path.join(root, name):\n",
    "                    temp = os.path.join(root, name)\n",
    "                    img = cv2.resize(cv2.imread(temp), (size, size)) \n",
    "                    data.append(img)\n",
    "                    label.append(e if e==0 else 1) \n",
    "#                 cou+=1\n",
    "print(rr)       \n",
    "data = np.array(data)\n",
    "label = np.array(label).reshape(-1,1)\n",
    "n_classes = label.shape[1]\n",
    "print(data.shape)\n",
    "print(label.shape)\n",
    "\n",
    "data_v = np.array(data_v)\n",
    "label_v = np.array(label_v).reshape(-1,1)\n",
    "n_classes_v = label_v.shape[1]\n",
    "print(data_v.shape)\n",
    "print(label_v.shape)\n",
    "print(collections.Counter(label.reshape(-1)))\n",
    "print(collections.Counter(label_v.reshape(-1)))"
   ]
  },
  {
   "cell_type": "code",
   "execution_count": 4,
   "metadata": {},
   "outputs": [
    {
     "name": "stdout",
     "output_type": "stream",
     "text": [
      "rm: cannot remove '20230305_Nigrosome_Source_image_3T/Control_104/.DS_Store': No such file or directory\r\n"
     ]
    }
   ],
   "source": [
    "!rm 20230305_Nigrosome_Source_image_3T/Control_104/.DS_Store"
   ]
  },
  {
   "cell_type": "code",
   "execution_count": 5,
   "metadata": {},
   "outputs": [],
   "source": [
    "ftype = tf.float32\n",
    "itype = tf.int32\n",
    "num_classes = 2\n",
    "hidden_dim = 512\n",
    "input_num = 7*7*320\n",
    "\n",
    "def weight_variable(shape):\n",
    "    return tf.Variable(tf.truncated_normal(shape, stddev=0.1), dtype=ftype)\n",
    "def bias_variable(shape, scale=0.1):\n",
    "    return tf.Variable(np.ones(shape)*scale, dtype=ftype)\n",
    "def convolution(x, w, b):\n",
    "    conv = tf.nn.relu(tf.nn.conv2d(x, w, strides=[1,1,1,1], padding=\"SAME\") + b)\n",
    "    return tf.nn.max_pool(conv, ksize=[1,2,2,1], strides=[1,2,2,1], padding=\"SAME\")\n",
    "\n",
    "class MLPModel:\n",
    "    def __init__(self, keep_prob=None):\n",
    "        self.keep_prob = keep_prob if keep_prob is None else tf.placeholder_with_default(1.0, [])\n",
    "        self.weights = []\n",
    "        self.biases = []\n",
    "        self.w_fc1 = weight_variable([input_num, hidden_dim])\n",
    "        self.b_fc1 = bias_variable([hidden_dim])\n",
    "        self.weights.append(self.w_fc1)\n",
    "        self.biases.append(self.b_fc1)\n",
    "        self.w_fc3 = weight_variable([hidden_dim, hidden_dim])\n",
    "        self.b_fc3 = bias_variable([hidden_dim])\n",
    "        self.weights.append(self.w_fc3)\n",
    "        self.biases.append(self.b_fc3)\n",
    "        self.w_fc4 = weight_variable([hidden_dim, hidden_dim])\n",
    "        self.b_fc4 = bias_variable([hidden_dim])\n",
    "        self.weights.append(self.w_fc4)\n",
    "        self.biases.append(self.b_fc4)\n",
    "        self.w_fc5 = weight_variable([hidden_dim, hidden_dim])\n",
    "        self.b_fc5 = bias_variable([hidden_dim])\n",
    "        self.weights.append(self.w_fc5)\n",
    "        self.biases.append(self.b_fc5)\n",
    "        self.w_fc2 = weight_variable([hidden_dim, num_classes])\n",
    "        self.b_fc2 = bias_variable([num_classes])\n",
    "        self.weights.append(self.w_fc2)\n",
    "        self.biases.append(self.b_fc2)\n",
    "    def __call__(self, input_tensor):\n",
    "        h_fc1 = tf.nn.relu(tf.matmul(input_tensor, self.w_fc1) + self.b_fc1)\n",
    "        h_fc1 = tf.nn.dropout(h_fc1, keep_prob=self.keep_prob)\n",
    "        h_fc3 = tf.nn.relu(tf.matmul(h_fc1, self.w_fc3) + self.b_fc3)\n",
    "        h_fc3 = tf.nn.dropout(h_fc3, keep_prob=self.keep_prob)\n",
    "        h_fc4 = tf.nn.relu(tf.matmul(h_fc3, self.w_fc4) + self.b_fc4)\n",
    "        h_fc4 = tf.nn.dropout(h_fc4, keep_prob=self.keep_prob)\n",
    "        h_fc5 = tf.nn.relu(tf.matmul(h_fc4, self.w_fc5) + self.b_fc5)\n",
    "        h_fc5 = tf.nn.dropout(h_fc5, keep_prob=self.keep_prob)\n",
    "        logits = tf.matmul(h_fc5, self.w_fc2) + self.b_fc2\n",
    "        return logits\n"
   ]
  },
  {
   "cell_type": "code",
   "execution_count": 6,
   "metadata": {},
   "outputs": [],
   "source": [
    "def VAT(input_tensor, network, network_to_approximate=None, xi=1e-6, epsilon=2.0, weight=1.0, num_approximation=1, clip_value_min=1e-30, dtype=tf.float32):\n",
    "    \"\"\"\n",
    "    https://arxiv.org/abs/1704.03976\n",
    "    ===input===\n",
    "    input_tensor           : input tensor of network\n",
    "    network                : function that receives input_tensor and returns the logits (i.e., the output without softmax.)\n",
    "    network_to_approximate : function only to approximate the virtual adversarial perturbation\n",
    "                             this may be useful when you want network to behave differently from the usual training part at some points such like dropout.\n",
    "                             if this is None (default), this is same as \"network.\"\n",
    "    xi                     : scale of perturbation that is used to approximate the virtual adversarial perturbation. (default: 1e-6)\n",
    "    epsilon                : scale of virtual adversarial perturbation. results can be sensitive at this number. (default: 2.0)\n",
    "    weight                 : weight of loss. (default: 1.0)\n",
    "    num_approximation      : number of iteration to approximate the virtual adversarial perturbation. (default: 1)\n",
    "    clip_value_min         : this is for clipping some values that \n",
    "    is divisor or given to log. (default: 1e-30)\n",
    "    dtype                  : dtype of tensors in this function. (default: tf.float32)\n",
    "    ===output===\n",
    "    vat_cross_entropy      : virtual adversarial loss\n",
    "    vat_perturbation       : virtual adversarial perturbation\n",
    "    \"\"\"\n",
    "\n",
    "    if network_to_approximate is None:\n",
    "        network_to_approximate = network\n",
    "        isSameNetwork = True\n",
    "    else:\n",
    "        isSameNetwork = False\n",
    "\n",
    "    clipped = lambda x: tf.maximum(x, clip_value_min)\n",
    "\n",
    "    axis_without_batch_size = tuple(range(1,len(input_tensor.get_shape())))\n",
    "    if len(axis_without_batch_size) == 1: axis_without_batch_size = axis_without_batch_size[0]\n",
    "    normalized = lambda x: x / clipped(tf.norm(x, axis=axis_without_batch_size, keep_dims=True))\n",
    "\n",
    "    plain_softmax = tf.nn.softmax(network_to_approximate(input_tensor))\n",
    "    perturbation = xi * normalized(tf.random_normal(shape=tf.shape(input_tensor), dtype=dtype))\n",
    "    for i in range(num_approximation):\n",
    "        softmax_accommodating_perturbation = tf.nn.softmax(network_to_approximate(input_tensor + perturbation))\n",
    "        cross_entropy_accommodating_perturbation = -tf.reduce_sum(plain_softmax * tf.log(clipped(softmax_accommodating_perturbation)/plain_softmax), reduction_indices=1) * weight\n",
    "        adversarial_direction = tf.gradients(cross_entropy_accommodating_perturbation, [perturbation])[0]\n",
    "        vat_perturbation = normalized(adversarial_direction)\n",
    "        perturbation = xi * vat_perturbation\n",
    "\n",
    "    current_softmax = tf.nn.softmax(network(input_tensor)) if not isSameNetwork else plain_softmax\n",
    "    current_softmax = tf.stop_gradient(current_softmax)\n",
    "    vat_perturbation = tf.stop_gradient(epsilon * vat_perturbation)\n",
    "    vat_softmax = tf.nn.softmax(network(input_tensor + vat_perturbation))\n",
    "    vat_cross_entropy = tf.reduce_mean(-tf.reduce_sum(current_softmax * tf.log(clipped(vat_softmax)/current_softmax), reduction_indices=1))\n",
    "    return vat_cross_entropy, vat_perturbation\n",
    "def cross_entropy_and_accuracy(feed_dict):\n",
    "    global sess, train_loss, accuracy, update_accuracy\n",
    "    sess.run(tf.local_variables_initializer())\n",
    "    loss, _ ,scor,pred= sess.run([cross_entropy, update_accuracy,s_logits,predictions], feed_dict=feed_dict)\n",
    "    acc = sess.run(accuracy)\n",
    "    return loss, acc,scor,pred\n",
    "\n"
   ]
  },
  {
   "cell_type": "code",
   "execution_count": 7,
   "metadata": {},
   "outputs": [
    {
     "name": "stdout",
     "output_type": "stream",
     "text": [
      "au\n",
      "ex\n",
      "Processing fold # 0\n"
     ]
    },
    {
     "name": "stderr",
     "output_type": "stream",
     "text": [
      "  2%|▏         | 17/848 [00:00<00:04, 166.48it/s]"
     ]
    },
    {
     "name": "stdout",
     "output_type": "stream",
     "text": [
      "aug...\n"
     ]
    },
    {
     "name": "stderr",
     "output_type": "stream",
     "text": [
      "100%|██████████| 848/848 [00:04<00:00, 197.95it/s]\n"
     ]
    },
    {
     "name": "stdout",
     "output_type": "stream",
     "text": [
      "ex...\n",
      "last layer output shape: (None, 7, 7, 320)\n"
     ]
    },
    {
     "name": "stderr",
     "output_type": "stream",
     "text": [
      "0it [00:00, ?it/s]\n"
     ]
    },
    {
     "name": "stdout",
     "output_type": "stream",
     "text": [
      "last layer output shape: (None, 7, 7, 320)\n",
      "(1696, 15680)\n",
      "(1696, 15680)\n",
      "(1816, 15680)\n"
     ]
    },
    {
     "name": "stderr",
     "output_type": "stream",
     "text": [
      "good,test_loss 4.298279, test_acc 0.750000, F1 0.733333, recall 0.600000,: 100%|██████████| 100/100 [00:22<00:00,  4.41it/s]\n",
      "<ipython-input-7-14ad4e6ef173>:139: DeprecationWarning: scipy.interp is deprecated and will be removed in SciPy 2.0.0, use numpy.interp instead\n",
      "  tprs.append(interp(mean_fpr,fpr,tpr))\n"
     ]
    },
    {
     "name": "stdout",
     "output_type": "stream",
     "text": [
      "best:\n",
      "test_acc: 0.75 F1: 0.7333333333333332 recall: 0.6\n",
      "saving..\n",
      "roc_auc: 0.7565714285714286\n",
      "Processing fold # 1\n"
     ]
    },
    {
     "name": "stderr",
     "output_type": "stream",
     "text": [
      "  2%|▏         | 21/848 [00:00<00:04, 195.72it/s]"
     ]
    },
    {
     "name": "stdout",
     "output_type": "stream",
     "text": [
      "aug...\n"
     ]
    },
    {
     "name": "stderr",
     "output_type": "stream",
     "text": [
      "100%|██████████| 848/848 [00:04<00:00, 199.94it/s]\n"
     ]
    },
    {
     "name": "stdout",
     "output_type": "stream",
     "text": [
      "ex...\n",
      "last layer output shape: (None, 7, 7, 320)\n"
     ]
    },
    {
     "name": "stderr",
     "output_type": "stream",
     "text": [
      "0it [00:00, ?it/s]\n"
     ]
    },
    {
     "name": "stdout",
     "output_type": "stream",
     "text": [
      "last layer output shape: (None, 7, 7, 320)\n",
      "(1696, 15680)\n",
      "(1696, 15680)\n",
      "(1816, 15680)\n"
     ]
    },
    {
     "name": "stderr",
     "output_type": "stream",
     "text": [
      "/nfs/Workspace/venv/lib/python3.8/site-packages/tensorflow_core/python/client/session.py:1750: UserWarning: An interactive session is already active. This can cause out-of-memory errors in some cases. You must explicitly call `InteractiveSession.close()` to release resources held by the other session(s).\n",
      "  warnings.warn('An interactive session is already active. This can '\n",
      "good,test_loss 2.035066, test_acc 0.783333, F1 0.780344, recall 0.800000,: 100%|██████████| 100/100 [00:22<00:00,  4.47it/s]\n",
      "<ipython-input-7-14ad4e6ef173>:139: DeprecationWarning: scipy.interp is deprecated and will be removed in SciPy 2.0.0, use numpy.interp instead\n",
      "  tprs.append(interp(mean_fpr,fpr,tpr))\n"
     ]
    },
    {
     "name": "stdout",
     "output_type": "stream",
     "text": [
      "best:\n",
      "test_acc: 0.78333336 F1: 0.7803435651929036 recall: 0.8\n",
      "saving..\n",
      "roc_auc: 0.8485714285714285\n",
      "Processing fold # 2\n"
     ]
    },
    {
     "name": "stderr",
     "output_type": "stream",
     "text": [
      "  2%|▏         | 18/848 [00:00<00:04, 167.15it/s]"
     ]
    },
    {
     "name": "stdout",
     "output_type": "stream",
     "text": [
      "aug...\n"
     ]
    },
    {
     "name": "stderr",
     "output_type": "stream",
     "text": [
      "100%|██████████| 848/848 [00:04<00:00, 205.31it/s]\n"
     ]
    },
    {
     "name": "stdout",
     "output_type": "stream",
     "text": [
      "ex...\n",
      "last layer output shape: (None, 7, 7, 320)\n"
     ]
    },
    {
     "name": "stderr",
     "output_type": "stream",
     "text": [
      "0it [00:00, ?it/s]\n"
     ]
    },
    {
     "name": "stdout",
     "output_type": "stream",
     "text": [
      "last layer output shape: (None, 7, 7, 320)\n",
      "(1696, 15680)\n",
      "(1696, 15680)\n",
      "(1816, 15680)\n"
     ]
    },
    {
     "name": "stderr",
     "output_type": "stream",
     "text": [
      "/nfs/Workspace/venv/lib/python3.8/site-packages/tensorflow_core/python/client/session.py:1750: UserWarning: An interactive session is already active. This can cause out-of-memory errors in some cases. You must explicitly call `InteractiveSession.close()` to release resources held by the other session(s).\n",
      "  warnings.warn('An interactive session is already active. This can '\n",
      "good,test_loss 2.026561, test_acc 0.733333, F1 0.729654, recall 0.740000,: 100%|██████████| 100/100 [00:22<00:00,  4.53it/s]\n",
      "<ipython-input-7-14ad4e6ef173>:139: DeprecationWarning: scipy.interp is deprecated and will be removed in SciPy 2.0.0, use numpy.interp instead\n",
      "  tprs.append(interp(mean_fpr,fpr,tpr))\n",
      "  2%|▏         | 20/848 [00:00<00:04, 195.07it/s]"
     ]
    },
    {
     "name": "stdout",
     "output_type": "stream",
     "text": [
      "best:\n",
      "test_acc: 0.73333335 F1: 0.729653618698958 recall: 0.74\n",
      "roc_auc: 0.7928571428571429\n",
      "Processing fold # 3\n",
      "aug...\n"
     ]
    },
    {
     "name": "stderr",
     "output_type": "stream",
     "text": [
      "100%|██████████| 848/848 [00:04<00:00, 193.85it/s]\n"
     ]
    },
    {
     "name": "stdout",
     "output_type": "stream",
     "text": [
      "ex...\n",
      "last layer output shape: (None, 7, 7, 320)\n"
     ]
    },
    {
     "name": "stderr",
     "output_type": "stream",
     "text": [
      "0it [00:00, ?it/s]\n"
     ]
    },
    {
     "name": "stdout",
     "output_type": "stream",
     "text": [
      "last layer output shape: (None, 7, 7, 320)\n",
      "(1696, 15680)\n",
      "(1696, 15680)\n",
      "(1816, 15680)\n"
     ]
    },
    {
     "name": "stderr",
     "output_type": "stream",
     "text": [
      "/nfs/Workspace/venv/lib/python3.8/site-packages/tensorflow_core/python/client/session.py:1750: UserWarning: An interactive session is already active. This can cause out-of-memory errors in some cases. You must explicitly call `InteractiveSession.close()` to release resources held by the other session(s).\n",
      "  warnings.warn('An interactive session is already active. This can '\n",
      "good,test_loss 2.890671, test_acc 0.741667, F1 0.739478, recall 0.780000,: 100%|██████████| 100/100 [00:22<00:00,  4.44it/s]\n",
      "<ipython-input-7-14ad4e6ef173>:139: DeprecationWarning: scipy.interp is deprecated and will be removed in SciPy 2.0.0, use numpy.interp instead\n",
      "  tprs.append(interp(mean_fpr,fpr,tpr))\n",
      "  2%|▏         | 17/848 [00:00<00:05, 162.24it/s]"
     ]
    },
    {
     "name": "stdout",
     "output_type": "stream",
     "text": [
      "best:\n",
      "test_acc: 0.7416667 F1: 0.7394775544505917 recall: 0.78\n",
      "roc_auc: 0.7744285714285714\n",
      "Processing fold # 4\n",
      "aug...\n"
     ]
    },
    {
     "name": "stderr",
     "output_type": "stream",
     "text": [
      "100%|██████████| 848/848 [00:04<00:00, 194.73it/s]\n"
     ]
    },
    {
     "name": "stdout",
     "output_type": "stream",
     "text": [
      "ex...\n",
      "last layer output shape: (None, 7, 7, 320)\n"
     ]
    },
    {
     "name": "stderr",
     "output_type": "stream",
     "text": [
      "0it [00:00, ?it/s]\n"
     ]
    },
    {
     "name": "stdout",
     "output_type": "stream",
     "text": [
      "last layer output shape: (None, 7, 7, 320)\n",
      "(1696, 15680)\n",
      "(1696, 15680)\n",
      "(1816, 15680)\n"
     ]
    },
    {
     "name": "stderr",
     "output_type": "stream",
     "text": [
      "/nfs/Workspace/venv/lib/python3.8/site-packages/tensorflow_core/python/client/session.py:1750: UserWarning: An interactive session is already active. This can cause out-of-memory errors in some cases. You must explicitly call `InteractiveSession.close()` to release resources held by the other session(s).\n",
      "  warnings.warn('An interactive session is already active. This can '\n",
      "good,test_loss 2.757628, test_acc 0.775000, F1 0.741853, recall 0.500000,: 100%|██████████| 100/100 [00:21<00:00,  4.60it/s]"
     ]
    },
    {
     "name": "stdout",
     "output_type": "stream",
     "text": [
      "best:\n",
      "test_acc: 0.775 F1: 0.7418532387857542 recall: 0.5\n",
      "roc_auc: 0.7412857142857143\n"
     ]
    },
    {
     "name": "stderr",
     "output_type": "stream",
     "text": [
      "\n",
      "<ipython-input-7-14ad4e6ef173>:139: DeprecationWarning: scipy.interp is deprecated and will be removed in SciPy 2.0.0, use numpy.interp instead\n",
      "  tprs.append(interp(mean_fpr,fpr,tpr))\n"
     ]
    },
    {
     "data": {
      "image/png": "[encoded data removed]",
      "text/plain": [
       "<Figure size 432x288 with 1 Axes>"
      ]
     },
     "metadata": {
      "needs_background": "light"
     },
     "output_type": "display_data"
    },
    {
     "name": "stdout",
     "output_type": "stream",
     "text": [
      "Avg_F1: 0.744932262092308\n",
      "Avg_Acc: 0.7566666722297668\n",
      "Avg_recall: 0.6839999999999999\n"
     ]
    }
   ],
   "source": [
    "s = np.arange(label.shape[0])\n",
    "np.random.shuffle(s)\n",
    "data = data[s]\n",
    "label = label[s]\n",
    "\n",
    "K = 5\n",
    "num_val_samples = int(len(data)/K)\n",
    "f1_avg=0.0\n",
    "acc_avg=0.0\n",
    "re_avg=0.0\n",
    "\n",
    "tprs=[]\n",
    "aucs=[]\n",
    "mean_fpr=np.linspace(0,1,100)\n",
    "aug = True\n",
    "ex = True\n",
    "print(\"au\" if aug==True else \"noau\")\n",
    "print(\"ex\" if ex==True else \"noex\")\n",
    "cm=[]\n",
    "best_F1_=0\n",
    "for i in range(K):\n",
    "    print('Processing fold #', i)\n",
    "    x_test = data_v/255.\n",
    "    x_test = x_test.astype('float32')\n",
    "    y_test = label_v\n",
    "    y_test = np.eye(2)[y_test].reshape(-1,2)\n",
    "    if K!=1:\n",
    "        x_train = np.concatenate( \n",
    "                             [data[: i*num_val_samples],\n",
    "                             data[(i+1)*num_val_samples :]],\n",
    "                             axis = 0)\n",
    "        y_train = np.concatenate(\n",
    "                             [label[: i*num_val_samples],\n",
    "                             label[(i+1)*num_val_samples :]],\n",
    "                             axis = 0)\n",
    "    else:\n",
    "        x_train = data\n",
    "        y_train = label\n",
    "    if aug:\n",
    "        print(\"aug...\")\n",
    "        aug_img =[]\n",
    "        aug_y = []\n",
    "        for c in tqdm(range(x_train.shape[0])):   \n",
    "            for j in range(1):              \n",
    "                aug_img.append(preprocessing_function(x_train[c].reshape(size,size,3)))\n",
    "                aug_y.append(y_train[c].reshape(1))\n",
    "        x_train = np.concatenate((x_train,np.array(aug_img)))\n",
    "        y_train = np.concatenate((y_train,np.array(aug_y)))\n",
    "    t = np.arange(y_train.shape[0])\n",
    "    np.random.shuffle(t)\n",
    "    x_train = x_train[t]/255.\n",
    "    y_train = y_train[t]\n",
    "    y_train = np.eye(2)[y_train].reshape(-1,2)\n",
    "    if ex: \n",
    "        print(\"ex...\")\n",
    "        train_ex = get_feature(efn.EfficientNetB0,x_train[:10000])\n",
    "        for ind in tqdm(range(10000,len(x_train),10000)):\n",
    "            train_ex_ = get_feature(efn.EfficientNetB0,x_train[ind:ind+10000])\n",
    "            train_ex = np.concatenate((train_ex,train_ex_))\n",
    "        test_ex = get_feature(efn.EfficientNetB0,x_test)\n",
    "            \n",
    "    else:\n",
    "        train_ex = x_train.reshape(-1,size*size*3)\n",
    "        test_ex = x_test.reshape(-1,size*size*3)\n",
    "\n",
    "\n",
    "    train_num = train_ex.shape[0]\n",
    "    test_num = test_ex.shape[0]\n",
    "    \n",
    "    all_ = np.concatenate((train_ex,test_ex),axis = 0)\n",
    "    train_ex = all_[:train_num].astype('float32')\n",
    "    test_ex = all_[train_num:].astype('float32')\n",
    "    ss = np.arange(all_.shape[0])\n",
    "    np.random.shuffle(ss)\n",
    "    all_ = all_[ss].astype('float32')\n",
    "    print(train_ex.shape)\n",
    "    print(train_ex.shape)\n",
    "    print(all_.shape)\n",
    "    \n",
    "    tf.reset_default_graph()\n",
    "    network = MLPModel(keep_prob=0.7)\n",
    "    x = tf.placeholder(ftype, [None, input_num])\n",
    "    x_v = tf.placeholder(ftype, [None, input_num])\n",
    "    gt = tf.placeholder(itype, [None, 2])\n",
    "    logits = network(x)\n",
    "    logits_ = network(x_v)\n",
    "    s_logits = tf.nn.softmax(logits)\n",
    "    s_logits_ = tf.nn.softmax(logits_)\n",
    "    cross_entropy = tf.reduce_mean(tf.nn.softmax_cross_entropy_with_logits(labels=gt, logits=logits))\n",
    "    vat_cross,_ = VAT(x_v,network)\n",
    "    train_loss = 0.999*cross_entropy+0.001*vat_cross\n",
    "    optimizer = tf.train.AdamOptimizer()\n",
    "    train_op = optimizer.minimize(train_loss)\n",
    "    predictions = tf.argmax(logits, axis=1)\n",
    "    accuracy, update_accuracy = tf.metrics.accuracy(labels=tf.argmax(gt, axis=1), predictions=predictions)\n",
    "\n",
    "    sess = tf.InteractiveSession()\n",
    "    sess.run(tf.global_variables_initializer())\n",
    "    sess.run(tf.local_variables_initializer())\n",
    "    vl = [v for v in tf.global_variables() if \"Adam\" not in v.name]\n",
    "    saver = tf.train.Saver(var_list=vl)\n",
    "    best_acc=0.00\n",
    "    best_F1=0.0\n",
    "    best_re=0.00\n",
    "    cm_best = []\n",
    "    y_test_ = []\n",
    "    sco = []\n",
    "    pbar = tqdm(range(100)) \n",
    "    for epoch in pbar:\n",
    "        ff = int(y_test.shape[0]/y_train.shape[0])\n",
    "        for b in range(0, y_train.shape[0], 32):   \n",
    "            fd = {x:train_ex[b:b+32], gt:y_train[b:b+32],x_v:all_[b*ff:(b+32)*ff]}\n",
    "            _,loss_ = sess.run([train_op,train_loss], feed_dict=fd)\n",
    "        loss, acc,l,p = cross_entropy_and_accuracy({x:test_ex, gt:y_test})\n",
    "        co_m = confusion_matrix(y_true=np.argmax(y_test, axis=1), y_pred=p)\n",
    "        f1 = f1_score(y_true=np.argmax(y_test, axis=1), y_pred=p, average='macro')\n",
    "        re = metrics.recall_score(y_true=np.argmax(y_test, axis=1), y_pred=p)\n",
    "        if f1>best_F1:\n",
    "            best_F1 = f1\n",
    "            best_acc = acc\n",
    "            best_re = re\n",
    "            y_test_= y_test\n",
    "            sco = l\n",
    "            cm_best = co_m\n",
    "            pbar.set_description(\"good,test_loss %f, test_acc %f, F1 %f, recall %f,\" % (loss,acc,f1,re))\n",
    "            save_path = saver.save(sess, \"./PD_model_\"+str(i)+\"/model.ckpt\")\n",
    "    cm.append(cm_best)\n",
    "    print(\"best:\")\n",
    "    print(\"test_acc:\",best_acc,\"F1:\",best_F1,\"recall:\",best_re)\n",
    "    if best_F1>best_F1_:\n",
    "        best_F1_=best_F1\n",
    "        print(\"saving..\")\n",
    "        save_path = saver.save(sess, \"./PD_model/model.ckpt\")\n",
    "    f1_avg+=best_F1\n",
    "    acc_avg+=best_acc\n",
    "    re_avg+= best_re\n",
    "    fpr,tpr,thresholds=roc_curve(y_test_[:,0],sco[:,0])\n",
    "\n",
    "    tprs.append(interp(mean_fpr,fpr,tpr))\n",
    "    tprs[-1][0]=0.0\n",
    "    roc_auc=auc(fpr,tpr)\n",
    "    print(\"roc_auc:\",roc_auc)\n",
    "    aucs.append(roc_auc)\n",
    "    \n",
    "    plt.plot(fpr,tpr,lw=1,alpha=0.3,label='ROC fold %d(area=%0.3f)'% (i,roc_auc))\n",
    "plt.plot([0,1],[0,1],linestyle='--',lw=2,color='r',label='Luck',alpha=.8)\n",
    "mean_tpr=np.mean(tprs,axis=0)\n",
    "mean_tpr[-1]=1.0\n",
    "mean_auc=auc(mean_fpr,mean_tpr)#计算平均AUC值\n",
    "std_auc=np.std(tprs,axis=0)\n",
    "plt.plot(mean_fpr,mean_tpr,color='b',label=r'Mean ROC (area=%0.3f)'%mean_auc,lw=2,alpha=.8)\n",
    "std_tpr=np.std(tprs,axis=0)\n",
    "tprs_upper=np.minimum(mean_tpr+std_tpr,1)\n",
    "tprs_lower=np.maximum(mean_tpr-std_tpr,0)\n",
    "# plt.fill_between(mean_tpr,tprs_lower,tprs_upper,color='gray',alpha=.2)\n",
    "plt.xlim([-0.05,1.05])\n",
    "plt.ylim([-0.05,1.05])\n",
    "plt.xlabel('False Positive Rate')\n",
    "plt.ylabel('True Positive Rate')\n",
    "plt.title('Mean ROC')\n",
    "plt.legend(loc='lower right')\n",
    "if mean_auc>=0.93:\n",
    "    plt.savefig('None.png',dpi=600)\n",
    "plt.show()     \n",
    "\n",
    "\n",
    "print(\"Avg_F1:\",f1_avg/K)\n",
    "print(\"Avg_Acc:\",acc_avg/K)\n",
    "print(\"Avg_recall:\",re_avg/K)"
   ]
  },
  {
   "cell_type": "code",
   "execution_count": 8,
   "metadata": {
    "scrolled": false
   },
   "outputs": [
    {
     "name": "stdout",
     "output_type": "stream",
     "text": [
      "(120, 224, 224, 3)\n",
      "(120, 1)\n",
      "last layer output shape: (None, 7, 7, 320)\n",
      "INFO:tensorflow:Restoring parameters from ./PD_model_0/model.ckpt\n"
     ]
    },
    {
     "name": "stderr",
     "output_type": "stream",
     "text": [
      "/nfs/Workspace/venv/lib/python3.8/site-packages/tensorflow_core/python/client/session.py:1750: UserWarning: An interactive session is already active. This can cause out-of-memory errors in some cases. You must explicitly call `InteractiveSession.close()` to release resources held by the other session(s).\n",
      "  warnings.warn('An interactive session is already active. This can '\n"
     ]
    },
    {
     "name": "stdout",
     "output_type": "stream",
     "text": [
      "INFO:tensorflow:Restoring parameters from ./PD_model_1/model.ckpt\n",
      "INFO:tensorflow:Restoring parameters from ./PD_model_2/model.ckpt\n",
      "INFO:tensorflow:Restoring parameters from ./PD_model_3/model.ckpt\n",
      "INFO:tensorflow:Restoring parameters from ./PD_model_4/model.ckpt\n",
      "(24, 2)\n",
      "[[12  2]\n",
      " [ 3  7]]\n",
      "f1: 0.7822141560798548\n",
      "re: 0.7\n",
      "acc: 0.7916666666666666\n",
      "              precision    recall  f1-score   support\n",
      "\n",
      "           0       0.80      0.86      0.83        14\n",
      "           1       0.78      0.70      0.74        10\n",
      "\n",
      "    accuracy                           0.79        24\n",
      "   macro avg       0.79      0.78      0.78        24\n",
      "weighted avg       0.79      0.79      0.79        24\n",
      "\n"
     ]
    },
    {
     "data": {
      "image/png": "[encoded data removed]",
      "text/plain": [
       "<Figure size 432x288 with 1 Axes>"
      ]
     },
     "metadata": {
      "needs_background": "light"
     },
     "output_type": "display_data"
    },
    {
     "name": "stdout",
     "output_type": "stream",
     "text": [
      "Confusion matrix, without normalization\n",
      "[[12  2]\n",
      " [ 3  7]]\n"
     ]
    },
    {
     "data": {
      "image/png": "[encoded data removed]",
      "text/plain": [
       "<Figure size 432x288 with 2 Axes>"
      ]
     },
     "metadata": {
      "needs_background": "light"
     },
     "output_type": "display_data"
    }
   ],
   "source": [
    "v_data = data_v\n",
    "K = 5\n",
    "v_data = np.array(v_data)\n",
    "v_label = label_v\n",
    "n_classes = v_label.shape[1]\n",
    "print(v_data.shape)\n",
    "print(v_label.shape)\n",
    "collections.Counter(v_label.reshape(-1))\n",
    "v_data = v_data/255.\n",
    "v_label = np.eye(2)[v_label].reshape(-1,2)\n",
    "\n",
    "v_data_ex = get_feature(efn.EfficientNetB0,v_data)\n",
    "tf.reset_default_graph()\n",
    "network = MLPModel(keep_prob=0.7)\n",
    "x = tf.placeholder(ftype, [None, input_num])\n",
    "x_v = tf.placeholder(ftype, [None, input_num])\n",
    "gt = tf.placeholder(itype, [None, 2])\n",
    "logits = network(x)\n",
    "logits_ = network(x_v)\n",
    "s_logits = tf.nn.softmax(logits)\n",
    "s_logits_ = tf.nn.softmax(logits_)\n",
    "#     entropy = tf.reduce_mean(tf.reduce_sum(tf.clip_by_value(s_logits_,0.1,1.0)*tf.clip_by_value(tf.log(s_logits_),0.1,1.0),axis=1))\n",
    "cross_entropy = tf.reduce_mean(tf.nn.softmax_cross_entropy_with_logits(labels=gt, logits=logits))\n",
    "vat_cross,_ = VAT(x_v,network)\n",
    "train_loss = 0.99999*cross_entropy+0.00001*vat_cross\n",
    "optimizer = tf.train.AdamOptimizer()\n",
    "train_op = optimizer.minimize(train_loss)\n",
    "predictions = tf.argmax(logits, axis=1)\n",
    "accuracy, update_accuracy = tf.metrics.accuracy(labels=tf.argmax(gt, axis=1), predictions=predictions)\n",
    "l__ = 0\n",
    "for g in range(K):\n",
    "    sess = tf.InteractiveSession()\n",
    "    sess.run(tf.global_variables_initializer())\n",
    "    sess.run(tf.local_variables_initializer())\n",
    "    vl = [v for v in tf.global_variables() if \"Adam\" not in v.name]\n",
    "    saver = tf.train.Saver(var_list=vl)\n",
    "    saver.restore(sess, \"./PD_model_\"+str(g)+\"/model.ckpt\")\n",
    "\n",
    "    loss, acc,l,p = cross_entropy_and_accuracy({x:v_data_ex, gt:v_label})\n",
    "    l_fold = l.reshape(24,5,2)\n",
    "    l_fold = np.sum(l_fold,axis=1)/5.\n",
    "    v_label_fold = np.array([x for e,x in enumerate(v_label) if e%5==0])\n",
    "    fpr_,tpr_,thresholds_=roc_curve(v_label_fold[:,1],l_fold[:,1])\n",
    "    roc_auc_=auc(fpr_,tpr_)\n",
    "    if g==0:l*50\n",
    "    l__+= l\n",
    "#     plt.plot(fpr_,tpr_,lw=1,alpha=0.3,label='ROC model %d(area=%0.3f)'% (g+1,roc_auc_))\n",
    "\n",
    "\n",
    "l= l__/5.\n",
    "l = l.reshape(24,5,2)\n",
    "l = np.sum(l,axis=1)/5.\n",
    "\n",
    "print(l.shape)\n",
    "\n",
    "p =  np.argmax(l,axis=1)\n",
    "v_label_ = [x for e,x in enumerate(np.argmax(v_label, axis=1)) if e%5==0]\n",
    "v_label = np.array([x for e,x in enumerate(v_label) if e%5==0])\n",
    "co_m = confusion_matrix(y_true=v_label_, y_pred=p)\n",
    "f1 = f1_score(y_true=v_label_, y_pred=p, average='macro')\n",
    "re = metrics.recall_score(y_true=v_label_, y_pred=p)\n",
    "acc = metrics.accuracy_score(v_label_, y_pred=p)\n",
    "report = metrics.classification_report(v_label_,p)\n",
    "\n",
    "print(co_m)\n",
    "print(\"f1:\",f1)\n",
    "print(\"re:\",re)\n",
    "print(\"acc:\",acc)\n",
    "print(report)\n",
    "\n",
    "\n",
    "fpr,tpr,thresholds=roc_curve(v_label[:,1],l[:,1])\n",
    "\n",
    "roc_auc=auc(fpr,tpr)\n",
    "\n",
    "plt.plot(fpr,tpr,lw=2,alpha=0.8,color='b',\n",
    "         label='ROC Ensemble Model (area=%0.3f)'% (roc_auc))\n",
    "\n",
    "plt.plot([0,1],[0,1],linestyle='--',lw=2,color='r',label='Luck',alpha=.8)\n",
    "plt.xlim([-0.05,1.05])\n",
    "plt.ylim([-0.05,1.05])\n",
    "plt.xlabel('False Positive Rate')\n",
    "plt.ylabel('True Positive Rate')\n",
    "plt.title('Validation_Subjects 25 (PD 15 Control 10)')\n",
    "plt.legend(loc='lower right')\n",
    "plt.savefig('Validation_Subjects 25 (PD 15 Control 10).png',dpi=600)\n",
    "plt.show()   \n",
    "\n",
    "\n",
    "plt.figure()\n",
    "plot_confusion_matrix(co_m, classes=target_names,normalize=False,\n",
    "                    title=\"confusion matrix\")\n",
    "plt.savefig('Validation_Subjects 25 (Total 15 loss Control 10)_cm.png',dpi=600)\n",
    "plt.show()  \n",
    "\n",
    "\n",
    "# plt.title('Validation_Subjects 28 (Total loss 14 Partial loss 14)')\n",
    "# plt.legend(loc='lower right')\n",
    "# plt.savefig('Validation_Subjects 28 (Total loss 14 Partial loss 14).png',dpi=600)\n",
    "# plt.show()   \n",
    "\n",
    "\n",
    "# plt.figure()\n",
    "# plot_confusion_matrix(co_m, classes=target_names,normalize=False,\n",
    "#                     title=\"confusion matrix\")\n",
    "# plt.savefig('Validation_Subjects 28 (Total loss Control 12)_cm.png',dpi=600)"
   ]
  },
  {
   "cell_type": "code",
   "execution_count": 9,
   "metadata": {},
   "outputs": [
    {
     "data": {
      "text/plain": [
       "(array([0., 0., 0., 0., 0., 0., 0., 0., 0., 0., 0., 0., 0., 0., 1., 1., 1.,\n",
       "        1., 1., 1., 1., 1., 1., 1.]),\n",
       " array([4.1574249e-01, 4.0887158e-02, 5.0846103e-04, 6.3100702e-01,\n",
       "        6.4952844e-03, 5.6545258e-01, 1.4376009e-01, 7.3763551e-03,\n",
       "        4.5180303e-01, 1.8819579e-01, 8.9983959e-03, 1.4146750e-01,\n",
       "        7.4885733e-02, 1.4373305e-01, 9.7056735e-01, 4.4610882e-01,\n",
       "        9.8608054e-02, 6.8289292e-01, 9.9636441e-01, 9.9684143e-01,\n",
       "        6.6694480e-01, 4.0338248e-01, 7.6927614e-01, 6.6736829e-01],\n",
       "       dtype=float32))"
      ]
     },
     "execution_count": 9,
     "metadata": {},
     "output_type": "execute_result"
    }
   ],
   "source": [
    "v_label[:,1],l[:,1]"
   ]
  },
  {
   "cell_type": "code",
   "execution_count": 10,
   "metadata": {},
   "outputs": [
    {
     "name": "stdout",
     "output_type": "stream",
     "text": [
      "0.4157425\n",
      "0.04088716\n",
      "0.00050846103\n",
      "0.631007\n",
      "0.0064952844\n",
      "0.5654526\n",
      "0.14376009\n",
      "0.007376355\n",
      "0.45180303\n",
      "0.1881958\n",
      "0.008998396\n",
      "0.1414675\n",
      "0.07488573\n",
      "0.14373305\n",
      "????\n",
      "0.97056735\n",
      "0.44610882\n",
      "0.098608054\n",
      "0.6828929\n",
      "0.9963644\n",
      "0.99684143\n",
      "0.6669448\n",
      "0.40338248\n",
      "0.76927614\n",
      "0.6673683\n"
     ]
    }
   ],
   "source": [
    "control = [x for e,x in enumerate(l[:,1]) if v_label[:,1][e] ==0]\n",
    "PD = [x for e,x in enumerate(l[:,1]) if v_label[:,1][e] ==1]\n",
    "for i in control:\n",
    "    print(i)\n",
    "print(\"????\")\n",
    "for i in PD:\n",
    "    print(i)"
   ]
  },
  {
   "cell_type": "code",
   "execution_count": null,
   "metadata": {},
   "outputs": [],
   "source": []
  }
 ],
 "metadata": {
  "kernelspec": {
   "display_name": "tensorflow11555",
   "language": "python",
   "name": "tensorflow11555"
  },
  "language_info": {
   "codemirror_mode": {
    "name": "ipython",
    "version": 3
   },
   "file_extension": ".py",
   "mimetype": "text/x-python",
   "name": "python",
   "nbconvert_exporter": "python",
   "pygments_lexer": "ipython3",
   "version": "3.8.5"
  }
 },
 "nbformat": 4,
 "nbformat_minor": 4
}
